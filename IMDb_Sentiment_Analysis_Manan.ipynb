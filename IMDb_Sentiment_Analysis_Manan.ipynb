{
  "nbformat": 4,
  "nbformat_minor": 5,
  "metadata": {
    "kernelspec": {
      "display_name": "Python 3",
      "language": "python",
      "name": "python3"
    },
    "language_info": {
      "codemirror_mode": {
        "name": "ipython",
        "version": 3
      },
      "file_extension": ".py",
      "mimetype": "text/x-python",
      "name": "python",
      "nbconvert_exporter": "python",
      "pygments_lexer": "ipython3",
      "version": "3.8.11"
    },
    "colab": {
      "name": "IMDb Sentiment Analysis Manan.ipynb",
      "provenance": []
    },
    "accelerator": "GPU"
  },
  "cells": [
    {
      "cell_type": "code",
      "metadata": {
        "id": "c678618e"
      },
      "source": [
        "import numpy as np\n",
        "import pandas as pd\n",
        "import seaborn as sns\n",
        "import matplotlib.pyplot as plt\n",
        "\n",
        "import string\n",
        "string.punctuation\n",
        "import nltk\n",
        "\n",
        "from sklearn.feature_extraction.text import CountVectorizer\n",
        "from sklearn.model_selection import train_test_split\n",
        "from sklearn.linear_model import LogisticRegression\n",
        "from sklearn.svm import LinearSVC\n",
        "from sklearn.metrics import classification_report, confusion_matrix, accuracy_score"
      ],
      "id": "c678618e",
      "execution_count": 1,
      "outputs": []
    },
    {
      "cell_type": "code",
      "metadata": {
        "colab": {
          "base_uri": "https://localhost:8080/"
        },
        "id": "tb5UuIjtGvhM",
        "outputId": "72fca791-cb0e-47d4-e117-e34fe3ebdf25"
      },
      "source": [
        "from google.colab import drive\n",
        "drive.mount('/content/drive')"
      ],
      "id": "tb5UuIjtGvhM",
      "execution_count": 2,
      "outputs": [
        {
          "output_type": "stream",
          "name": "stdout",
          "text": [
            "Mounted at /content/drive\n"
          ]
        }
      ]
    },
    {
      "cell_type": "code",
      "metadata": {
        "id": "24808c16"
      },
      "source": [
        "train_df = pd.read_csv('Train.csv')\n"
      ],
      "id": "24808c16",
      "execution_count": 5,
      "outputs": []
    },
    {
      "cell_type": "code",
      "metadata": {
        "colab": {
          "base_uri": "https://localhost:8080/",
          "height": 206
        },
        "id": "b3b4e022",
        "outputId": "92ea1562-5c66-4862-9f92-bc9064e35b87"
      },
      "source": [
        "train_df.head()"
      ],
      "id": "b3b4e022",
      "execution_count": 6,
      "outputs": [
        {
          "output_type": "execute_result",
          "data": {
            "text/html": [
              "<div>\n",
              "<style scoped>\n",
              "    .dataframe tbody tr th:only-of-type {\n",
              "        vertical-align: middle;\n",
              "    }\n",
              "\n",
              "    .dataframe tbody tr th {\n",
              "        vertical-align: top;\n",
              "    }\n",
              "\n",
              "    .dataframe thead th {\n",
              "        text-align: right;\n",
              "    }\n",
              "</style>\n",
              "<table border=\"1\" class=\"dataframe\">\n",
              "  <thead>\n",
              "    <tr style=\"text-align: right;\">\n",
              "      <th></th>\n",
              "      <th>label</th>\n",
              "      <th>text</th>\n",
              "    </tr>\n",
              "  </thead>\n",
              "  <tbody>\n",
              "    <tr>\n",
              "      <th>0</th>\n",
              "      <td>0</td>\n",
              "      <td>I grew up (b. 1965) watching and loving the Th...</td>\n",
              "    </tr>\n",
              "    <tr>\n",
              "      <th>1</th>\n",
              "      <td>0</td>\n",
              "      <td>When I put this movie in my DVD player, and sa...</td>\n",
              "    </tr>\n",
              "    <tr>\n",
              "      <th>2</th>\n",
              "      <td>0</td>\n",
              "      <td>Why do people who do not know what a particula...</td>\n",
              "    </tr>\n",
              "    <tr>\n",
              "      <th>3</th>\n",
              "      <td>0</td>\n",
              "      <td>Even though I have great interest in Biblical ...</td>\n",
              "    </tr>\n",
              "    <tr>\n",
              "      <th>4</th>\n",
              "      <td>1</td>\n",
              "      <td>Im a die hard Dads Army fan and nothing will e...</td>\n",
              "    </tr>\n",
              "  </tbody>\n",
              "</table>\n",
              "</div>"
            ],
            "text/plain": [
              "   label                                               text\n",
              "0      0  I grew up (b. 1965) watching and loving the Th...\n",
              "1      0  When I put this movie in my DVD player, and sa...\n",
              "2      0  Why do people who do not know what a particula...\n",
              "3      0  Even though I have great interest in Biblical ...\n",
              "4      1  Im a die hard Dads Army fan and nothing will e..."
            ]
          },
          "metadata": {},
          "execution_count": 6
        }
      ]
    },
    {
      "cell_type": "code",
      "metadata": {
        "id": "dbc3bcfb"
      },
      "source": [
        "test_df = pd.read_csv('Test.csv')"
      ],
      "id": "dbc3bcfb",
      "execution_count": 7,
      "outputs": []
    },
    {
      "cell_type": "code",
      "metadata": {
        "colab": {
          "base_uri": "https://localhost:8080/"
        },
        "id": "0e862d23",
        "outputId": "e950ad1d-4e9c-4e43-8a49-7bc9397bf20e"
      },
      "source": [
        "nltk.download('stopwords')\n",
        "from nltk.corpus import stopwords\n",
        "\n",
        "def text_cleaning(message):\n",
        "    message = message[:300]\n",
        "    punc_removed = [char for char in message if char not in string.punctuation]\n",
        "    punc_removed_join = ''.join(punc_removed)\n",
        "    punc_removed_join_clean = [ word.lower() for word in punc_removed_join.split() if word.lower() not in stopwords.words('english')]\n",
        "    punc_removed_join_clean = ' '.join(punc_removed_join_clean)\n",
        "    return punc_removed_join_clean "
      ],
      "id": "0e862d23",
      "execution_count": 8,
      "outputs": [
        {
          "output_type": "stream",
          "name": "stdout",
          "text": [
            "[nltk_data] Downloading package stopwords to /root/nltk_data...\n",
            "[nltk_data]   Unzipping corpora/stopwords.zip.\n"
          ]
        }
      ]
    },
    {
      "cell_type": "code",
      "metadata": {
        "id": "e37f4d13"
      },
      "source": [
        "valid_df = pd.read_csv('Valid.csv')"
      ],
      "id": "e37f4d13",
      "execution_count": 9,
      "outputs": []
    },
    {
      "cell_type": "code",
      "metadata": {
        "colab": {
          "base_uri": "https://localhost:8080/"
        },
        "id": "6bed9b01",
        "outputId": "46ba7b3d-c957-415f-cc01-da0f3362ad12"
      },
      "source": [
        "train_df.isnull().sum()"
      ],
      "id": "6bed9b01",
      "execution_count": 10,
      "outputs": [
        {
          "output_type": "execute_result",
          "data": {
            "text/plain": [
              "label    0\n",
              "text     0\n",
              "dtype: int64"
            ]
          },
          "metadata": {},
          "execution_count": 10
        }
      ]
    },
    {
      "cell_type": "code",
      "metadata": {
        "id": "f85f551e"
      },
      "source": [
        "X_train_df = train_df['text'].apply(text_cleaning)\n",
        "y_train_df = train_df['label'].values\n"
      ],
      "id": "f85f551e",
      "execution_count": null,
      "outputs": []
    },
    {
      "cell_type": "code",
      "metadata": {
        "colab": {
          "base_uri": "https://localhost:8080/"
        },
        "id": "o7PEhx8fIssZ",
        "outputId": "9772948e-72b1-4e87-a51b-fdfbab15c1bc"
      },
      "source": [
        "X_train_df.shape\n",
        "y_train_df.shape\n"
      ],
      "id": "o7PEhx8fIssZ",
      "execution_count": 16,
      "outputs": [
        {
          "output_type": "execute_result",
          "data": {
            "text/plain": [
              "(3999,)"
            ]
          },
          "metadata": {},
          "execution_count": 16
        }
      ]
    },
    {
      "cell_type": "code",
      "metadata": {
        "id": "I336H_00Ou_v"
      },
      "source": [
        "vectorizer = CountVectorizer()\n",
        "data_vectorizer = vectorizer.fit_transform(X_train_df)\n",
        "X_train = data_vectorizer\n",
        "y_train = y_train_df"
      ],
      "id": "I336H_00Ou_v",
      "execution_count": 25,
      "outputs": []
    },
    {
      "cell_type": "code",
      "metadata": {
        "colab": {
          "base_uri": "https://localhost:8080/"
        },
        "id": "ih40ih_8I5pH",
        "outputId": "f65654aa-9268-40b5-87bb-76a18492b068"
      },
      "source": [
        "X_train = X_train[:,:5428]\n",
        "X_train.shape"
      ],
      "id": "ih40ih_8I5pH",
      "execution_count": 36,
      "outputs": [
        {
          "output_type": "execute_result",
          "data": {
            "text/plain": [
              "(3999, 5428)"
            ]
          },
          "metadata": {},
          "execution_count": 36
        }
      ]
    },
    {
      "cell_type": "code",
      "metadata": {
        "colab": {
          "base_uri": "https://localhost:8080/"
        },
        "id": "zDr8nql_JCmG",
        "outputId": "702f66f7-3d7d-4a6b-e129-6efb532c0f27"
      },
      "source": [
        "y_train.shape"
      ],
      "id": "zDr8nql_JCmG",
      "execution_count": 37,
      "outputs": [
        {
          "output_type": "execute_result",
          "data": {
            "text/plain": [
              "(3999,)"
            ]
          },
          "metadata": {},
          "execution_count": 37
        }
      ]
    },
    {
      "cell_type": "code",
      "metadata": {
        "colab": {
          "base_uri": "https://localhost:8080/"
        },
        "id": "bF17VejYOHVU",
        "outputId": "a72b4316-cd2a-490e-80d0-d48d4999e320"
      },
      "source": [
        "X_test_df.shape"
      ],
      "id": "bF17VejYOHVU",
      "execution_count": 38,
      "outputs": [
        {
          "output_type": "execute_result",
          "data": {
            "text/plain": [
              "(499,)"
            ]
          },
          "metadata": {},
          "execution_count": 38
        }
      ]
    },
    {
      "cell_type": "code",
      "metadata": {
        "id": "sKoalaglS33i"
      },
      "source": [
        "X_test_df = test_df['text'].apply(text_cleaning)\n",
        "y_test = test_df['label'].values\n",
        "vectorizer_test = CountVectorizer()\n",
        "data_vectorizer_test = vectorizer_test.fit_transform(X_test_df)\n",
        "X_test = data_vectorizer_test"
      ],
      "id": "sKoalaglS33i",
      "execution_count": 39,
      "outputs": []
    },
    {
      "cell_type": "markdown",
      "metadata": {
        "id": "QoTxyFRwTPWq"
      },
      "source": [
        "#Using LR"
      ],
      "id": "QoTxyFRwTPWq"
    },
    {
      "cell_type": "code",
      "metadata": {
        "id": "f9626d66",
        "colab": {
          "base_uri": "https://localhost:8080/"
        },
        "outputId": "22c57d1a-7076-468f-bce0-fd8c50ca88b1"
      },
      "source": [
        "LR_Model = LogisticRegression(max_iter = 500)\n",
        "LR_Model.fit(X_train, y_train)"
      ],
      "id": "f9626d66",
      "execution_count": 40,
      "outputs": [
        {
          "output_type": "execute_result",
          "data": {
            "text/plain": [
              "LogisticRegression(C=1.0, class_weight=None, dual=False, fit_intercept=True,\n",
              "                   intercept_scaling=1, l1_ratio=None, max_iter=500,\n",
              "                   multi_class='auto', n_jobs=None, penalty='l2',\n",
              "                   random_state=None, solver='lbfgs', tol=0.0001, verbose=0,\n",
              "                   warm_start=False)"
            ]
          },
          "metadata": {},
          "execution_count": 40
        }
      ]
    },
    {
      "cell_type": "code",
      "metadata": {
        "colab": {
          "base_uri": "https://localhost:8080/"
        },
        "id": "_7hBmXYKNkTH",
        "outputId": "77737beb-5028-45fa-dad9-c0c975a74485"
      },
      "source": [
        "X_test.shape"
      ],
      "id": "_7hBmXYKNkTH",
      "execution_count": 41,
      "outputs": [
        {
          "output_type": "execute_result",
          "data": {
            "text/plain": [
              "(499, 5428)"
            ]
          },
          "metadata": {},
          "execution_count": 41
        }
      ]
    },
    {
      "cell_type": "code",
      "metadata": {
        "id": "vF0lEwFTOB_h"
      },
      "source": [
        "y_pred_LR = LR_Model.predict(X_test)"
      ],
      "id": "vF0lEwFTOB_h",
      "execution_count": 42,
      "outputs": []
    },
    {
      "cell_type": "code",
      "metadata": {
        "colab": {
          "base_uri": "https://localhost:8080/"
        },
        "id": "CCvSC82VWY8m",
        "outputId": "c14ec930-25e4-46f1-bab0-1d55244bd371"
      },
      "source": [
        "X_test.shape"
      ],
      "id": "CCvSC82VWY8m",
      "execution_count": 43,
      "outputs": [
        {
          "output_type": "execute_result",
          "data": {
            "text/plain": [
              "(499, 5428)"
            ]
          },
          "metadata": {},
          "execution_count": 43
        }
      ]
    },
    {
      "cell_type": "code",
      "metadata": {
        "id": "HSVu0eaNVUuA",
        "colab": {
          "base_uri": "https://localhost:8080/"
        },
        "outputId": "e5c29a57-eecd-4575-cdb2-ada3e82ff590"
      },
      "source": [
        "print(classification_report(y_test,y_pred_LR))"
      ],
      "id": "HSVu0eaNVUuA",
      "execution_count": 44,
      "outputs": [
        {
          "output_type": "stream",
          "name": "stdout",
          "text": [
            "              precision    recall  f1-score   support\n",
            "\n",
            "           0       0.56      0.61      0.58       266\n",
            "           1       0.50      0.45      0.48       233\n",
            "\n",
            "    accuracy                           0.54       499\n",
            "   macro avg       0.53      0.53      0.53       499\n",
            "weighted avg       0.53      0.54      0.53       499\n",
            "\n"
          ]
        }
      ]
    },
    {
      "cell_type": "markdown",
      "metadata": {
        "id": "jTHwonrzTCkl"
      },
      "source": [
        "#Now using SVM"
      ],
      "id": "jTHwonrzTCkl"
    },
    {
      "cell_type": "code",
      "metadata": {
        "id": "66PhBA5bVqHs",
        "colab": {
          "base_uri": "https://localhost:8080/"
        },
        "outputId": "c1235b38-1cf1-4296-862b-6c1f82338459"
      },
      "source": [
        "Lsvc =LinearSVC()\n",
        "Lsvc.fit(X_train, y_train)"
      ],
      "id": "66PhBA5bVqHs",
      "execution_count": 46,
      "outputs": [
        {
          "output_type": "execute_result",
          "data": {
            "text/plain": [
              "LinearSVC(C=1.0, class_weight=None, dual=True, fit_intercept=True,\n",
              "          intercept_scaling=1, loss='squared_hinge', max_iter=1000,\n",
              "          multi_class='ovr', penalty='l2', random_state=None, tol=0.0001,\n",
              "          verbose=0)"
            ]
          },
          "metadata": {},
          "execution_count": 46
        }
      ]
    },
    {
      "cell_type": "code",
      "metadata": {
        "id": "H0aiF5GkS9LR"
      },
      "source": [
        "y_pred_lsvc = Lsvc.predict(X_test)"
      ],
      "id": "H0aiF5GkS9LR",
      "execution_count": 47,
      "outputs": []
    },
    {
      "cell_type": "code",
      "metadata": {
        "colab": {
          "base_uri": "https://localhost:8080/"
        },
        "id": "kshRm-UwT8rx",
        "outputId": "3f38f078-56cc-4151-d2f5-1c8f587608b9"
      },
      "source": [
        "print(classification_report(y_test,y_pred_lsvc))"
      ],
      "id": "kshRm-UwT8rx",
      "execution_count": 48,
      "outputs": [
        {
          "output_type": "stream",
          "name": "stdout",
          "text": [
            "              precision    recall  f1-score   support\n",
            "\n",
            "           0       0.54      0.62      0.58       266\n",
            "           1       0.48      0.39      0.43       233\n",
            "\n",
            "    accuracy                           0.52       499\n",
            "   macro avg       0.51      0.51      0.50       499\n",
            "weighted avg       0.51      0.52      0.51       499\n",
            "\n"
          ]
        }
      ]
    },
    {
      "cell_type": "code",
      "metadata": {
        "id": "185xUUAxUDuB"
      },
      "source": [
        ""
      ],
      "id": "185xUUAxUDuB",
      "execution_count": null,
      "outputs": []
    }
  ]
}